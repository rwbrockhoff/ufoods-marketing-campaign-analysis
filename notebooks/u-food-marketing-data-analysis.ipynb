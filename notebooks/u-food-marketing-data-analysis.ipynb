{
 "cells": [
  {
   "cell_type": "markdown",
   "id": "0935b5a3-4f74-41e1-a09a-322b2037a65e",
   "metadata": {},
   "source": [
    "## UFood Marketing Data Analysis"
   ]
  },
  {
   "cell_type": "code",
   "execution_count": null,
   "id": "d0f56302-b30c-42cb-9367-847d0a251439",
   "metadata": {},
   "outputs": [],
   "source": [
    "import pandas as pd\n",
    "import matplotlib.pyplot as plt\n",
    "import numpy as np\n",
    "import seaborn as sns\n",
    "\n",
    "# Show all rows/columns\n",
    "pd.set_option('display.max.columns', None)\n",
    "pd.set_option('display.max.rows', None)\n",
    "\n",
    "file = '../data/u_food_marketing.csv'\n",
    "\n",
    "food_df_raw = pd.read_csv(file)\n",
    "food_df = pd.read_csv(file)\n",
    "\n",
    "# remove duplicates\n",
    "food_df.drop_duplicates(inplace=True)\n",
    "\n",
    "# combine children input into one column.\n",
    "food_df['total_children'] = food_df[['Kidhome', 'Teenhome']].sum(axis=1)\n",
    "\n",
    "# combine marriage status columns into marital_status column\n",
    "conditions = [\n",
    "    (food_df['marital_Divorced'] == 1),\n",
    "    (food_df['marital_Married'] == 1),\n",
    "    (food_df['marital_Single'] == 1),\n",
    "    (food_df['marital_Together'] == 1),\n",
    "    (food_df['marital_Widow'] == 1)\n",
    "]\n",
    "\n",
    "values = ['divorced', 'married', 'single', 'together', 'widow']\n",
    "\n",
    "food_df['marital_status'] = np.select(conditions, values, default = None)\n",
    "\n",
    "food_df.drop(columns=['marital_Divorced', 'marital_Married', 'marital_Single', 'marital_Together', 'marital_Widow'], inplace=True)\n",
    "\n",
    "# combine education status columns into education_status column\n",
    "conditions = [\n",
    "    (food_df['education_Basic'] == 1),\n",
    "    (food_df['education_Graduation'] == 1),\n",
    "    (food_df['education_Master'] == 1),\n",
    "    (food_df['education_PhD'] == 1),\n",
    "]\n",
    "\n",
    "values = ['basic', 'graduation', 'master', 'phd']\n",
    "\n",
    "food_df['education_level'] = np.select(conditions, values, default = None)\n",
    "\n",
    "food_df.drop(columns=['education_Basic', 'education_Graduation', 'education_Master', 'education_PhD'], inplace = True)\n",
    "\n",
    "# yes/no boolean based on accepting marketing campaigns: accepted_campaigns\n",
    "# creates a boolean based on if equal to 0, converst to int type\n",
    "food_df['accepted_campaigns'] = (food_df['AcceptedCmpOverall'] != 0).astype(int)"
   ]
  },
  {
   "cell_type": "markdown",
   "id": "778f05eb-0794-4464-851d-770f2da4a44a",
   "metadata": {},
   "source": [
    "#### Correlations"
   ]
  },
  {
   "cell_type": "code",
   "execution_count": null,
   "id": "2ec79003-7bc0-4b85-97e5-bebf9845d0ef",
   "metadata": {},
   "outputs": [],
   "source": [
    "# explore correlations with users who accepted any campaign with other columns\n",
    "all_camp_correlations = pd.DataFrame(food_df.corr(numeric_only=True)['accepted_campaigns'])\n",
    "\n",
    "# filter where correlation is comparing to itself and low correlation values\n",
    "high_camp_correlations = all_camp_correlations[(all_camp_correlations > 0.3) & (all_camp_correlations < 1)]\n",
    "\n",
    "# remove null values for non-integer columns\n",
    "high_camp_correlations.dropna(inplace=True)\n",
    "\n",
    "high_camp_correlations.sort_values(by = 'accepted_campaigns', ascending=False, inplace=True)\n",
    "\n",
    "# correlations for accepted campaigns (1-5)\n",
    "campaign_correlations = high_camp_correlations[high_camp_correlations.index.str.contains('Accepted')].drop('AcceptedCmpOverall', axis=0)\n",
    "\n",
    "# split correlations based on campaigns and other alternative factors\n",
    "factor_correlations = high_camp_correlations[~high_camp_correlations.index.str.contains('Accepted')]"
   ]
  },
  {
   "cell_type": "markdown",
   "id": "1234ea7b-c58e-420b-b0b0-ec6a4407ae0d",
   "metadata": {},
   "source": [
    "#### Campaign Acceptance Factors"
   ]
  },
  {
   "cell_type": "code",
   "execution_count": null,
   "id": "f01a3e21-5e4e-4be9-a35a-553a8982e282",
   "metadata": {},
   "outputs": [],
   "source": [
    "fig, axes = plt.subplots(nrows = 1, ncols = 2, figsize=(15, 5))\n",
    "\n",
    "sns.barplot(data = campaign_correlations, \n",
    "            x = campaign_correlations.index, \n",
    "            y = 'accepted_campaigns', \n",
    "            ax = axes[0], \n",
    "            hue='accepted_campaigns',\n",
    "            legend=False)\n",
    "\n",
    "sns.barplot(data = factor_correlations, \n",
    "            x = factor_correlations.index, \n",
    "            y = 'accepted_campaigns', \n",
    "            ax = axes[1],\n",
    "            hue='accepted_campaigns',\n",
    "            legend=False)\n",
    "\n",
    "axes[0].set_title('Campaign Acceptance Rate', fontfamily = 'Merriweather', fontsize = 16)\n",
    "axes[0].set_xlabel('Campaigns')\n",
    "axes[0].set_ylabel('Correlation')\n",
    "# axes[0].text(-.5, -.2, 'Campaign, 3, 4, and 5 show the strongest relationship to campaign acceptance. \\nWhile Campaign 2 had the weakest relationship to a customer accepting a campaign.', transform=axes[0].transAxes,  ha='left', va='baseline')\n",
    "\n",
    "axes[1].set_title('Other Factors for Campaign Acceptance', fontfamily = 'Merriweather', fontsize = 16)\n",
    "axes[1].set_xlabel('Factors')\n",
    "axes[1].set_ylabel('Correlation')\n",
    "# axes[1].text(-.5, -.2, 'Campaign, 3, 4, and 5 show the strongest relationship to campaign acceptance. \\nWhile Campaign 2 had the weakest relationship to a customer accepting a campaign.', transform=axes[1].transAxes,  ha='left', va='baseline')\n",
    "\n",
    "plt.tight_layout()\n",
    "plt.show()\n",
    "fig.savefig('/Users/ryanbrockhoff/Desktop/campaign_subplots.png', dpi=300)"
   ]
  },
  {
   "cell_type": "markdown",
   "id": "7dcfe1db-c7ee-4eb6-a4fb-8bdbdf1a5c4f",
   "metadata": {},
   "source": [
    "#### Create Age Groups for Segmentation"
   ]
  },
  {
   "cell_type": "code",
   "execution_count": null,
   "id": "2c01df3b-8c0f-4c91-bcad-d91258aab0fe",
   "metadata": {},
   "outputs": [],
   "source": [
    "# Age range of 23-80 years old.\n",
    "\n",
    "# food_df['Age'].min()\n",
    "# food_df['Age'].max()\n",
    "\n",
    "age_groups = [(23,30), (31, 40), (41, 50), (51, 60), (61, 70), (71, 81)]\n",
    "\n",
    "def assign_age_group(age):\n",
    "    for group in age_groups:\n",
    "        if (age >= group[0]) & (age <= group[1]):\n",
    "            return '{0} - {1}'.format(group[0], group[1])\n",
    "    return None\n",
    "    \n",
    "food_df['age_group'] = food_df['Age'].apply(assign_age_group)"
   ]
  },
  {
   "cell_type": "code",
   "execution_count": null,
   "id": "dc077bda-a454-42dd-b03e-c723e2aa81b2",
   "metadata": {},
   "outputs": [],
   "source": [
    "\n",
    "pointplot_age_groups = sns.pointplot(data = food_df.sort_values(by = 'age_group'), \n",
    "              x = 'age_group',\n",
    "              y='accepted_campaigns')\n",
    "\n",
    "plt.title('Campaign Acceptance Per Age Group', fontfamily = 'Merriweather', fontsize = 16)\n",
    "plt.xlabel('Age Groups')\n",
    "plt.ylabel('Accepted Campaigns')\n",
    "\n",
    "plt.show()"
   ]
  },
  {
   "cell_type": "markdown",
   "id": "e60ec896-a7cb-485b-ae77-e9707651adae",
   "metadata": {},
   "source": [
    "#### Acceptance Dataframe with Age Group Data"
   ]
  },
  {
   "cell_type": "code",
   "execution_count": null,
   "id": "ae2d9554-6498-4ab2-9f54-93d96f3b0f74",
   "metadata": {},
   "outputs": [],
   "source": [
    "# filter to customers who accepted campaigns\n",
    "accepted_campaign_df = food_df[food_df['accepted_campaigns'] >= 1]\n",
    "\n",
    "# get total number of customers per age group\n",
    "accepted_per_group = pd.DataFrame(accepted_campaign_df.groupby('age_group').size())\n",
    "\n",
    "# total number of people in each age group - regardless of campaign acceptance\n",
    "total_group_size = pd.DataFrame(food_df.groupby('age_group').size())\n",
    "\n",
    "acceptance_df = accepted_per_group.join(total_group_size, \n",
    "                                 on='age_group', \n",
    "                                 lsuffix = '_accepted', \n",
    "                                 rsuffix = '_total')\n",
    "\n",
    "acceptance_df.columns = ['accepted_campaigns', 'total_count']\n",
    "\n",
    "# percentage of customers accepting campaigns per age group\n",
    "acceptance_df['accepted_percentage'] = (acceptance_df['accepted_campaigns'] / \n",
    "                                        acceptance_df['total_count']).round(2) * 100\n",
    "\n",
    "# total amount spent per age group\n",
    "acceptance_df['total_spent'] = accepted_campaign_df.groupby('age_group')['MntTotal'].mean()"
   ]
  },
  {
   "cell_type": "code",
   "execution_count": null,
   "id": "e8a43238-4411-4cf9-a421-5ab706d22304",
   "metadata": {},
   "outputs": [],
   "source": [
    "sns.barplot(data = acceptance_df,\n",
    "            x = 'age_group',\n",
    "            y = 'accepted_campaigns',\n",
    "            hue = 'accepted_percentage',\n",
    "            legend = True)\n",
    "\n",
    "plt.title('Accepted Campaigns Per Age Group', fontfamily = 'Merriweather', fontsize = 16)\n",
    "plt.xlabel('Age Group')\n",
    "plt.ylabel('Number of Customers')\n",
    "plt.legend(title='% of Age Group', bbox_to_anchor=(1.02, 1.02), loc='upper left')\n",
    "plt.tight_layout()\n",
    "plt.show()"
   ]
  },
  {
   "cell_type": "markdown",
   "id": "34bcc831-6507-462f-8a84-e7a39647cd6f",
   "metadata": {},
   "source": [
    "41-50 are accepting the most campaigns overall, but have a lower conversion rate. Whereas 31-40, 41-50, and 51-60 age groups have a much better conversion rate while still having similar numbers of customers accepting campaigns. Meanwhile, our 23-30 and 71-81 age groups have a higher conversion rate for campaigns, but far fewer customers fall in these age brackets."
   ]
  },
  {
   "cell_type": "code",
   "execution_count": null,
   "id": "d9eeddaa-7567-4eea-b52a-5519453bd0f2",
   "metadata": {},
   "outputs": [],
   "source": [
    "ax = sns.barplot(data = acceptance_df,\n",
    "            x = 'age_group',\n",
    "            y = 'total_spent',\n",
    "            hue='accepted_campaigns',\n",
    "            legend = True)\n",
    "\n",
    "# Add annotations on top of each bar\n",
    "for p in ax.patches:\n",
    "    ax.annotate(f'${p.get_height():,.0f}', # format into currency with no decimal places shown\n",
    "                (p.get_x() + p.get_width() / 2., p.get_height()),  # position\n",
    "                ha='center', va='center',\n",
    "                fontsize=10, \n",
    "                xytext=(0, 5), textcoords='offset points')  #spacing\n",
    "\n",
    "\n",
    "plt.title('Average Order Value For Accepting Campaign', fontfamily = 'Merriweather', fontsize = 14)\n",
    "plt.xlabel('Age Group')\n",
    "plt.ylabel('Total Spent')\n",
    "plt.legend(title='Number of\\nCustomers', bbox_to_anchor=(1.02, 1.02), loc='upper left')\n",
    "plt.tight_layout()\n",
    "plt.savefig('/Users/ryanbrockhoff/Desktop/average-order-value.png', dpi=300)\n",
    "plt.show()"
   ]
  },
  {
   "cell_type": "markdown",
   "id": "390f1333-328b-4551-b519-0ba5f065c8af",
   "metadata": {},
   "source": [
    "Average order value doesn't seem to have a strong relationship with age groups for segmentation. Average spent is comparable for age groups where we have a larger total number of customers. Small population size may be skewing results for 23-30 and 71-81."
   ]
  },
  {
   "cell_type": "markdown",
   "id": "2079bae3-e70f-4b53-98e2-6b4d7f62e6db",
   "metadata": {},
   "source": [
    "#### Purchase Methods Dataframe "
   ]
  },
  {
   "cell_type": "code",
   "execution_count": null,
   "id": "2bc5c836-d3f4-4499-bb04-e85842b65a7f",
   "metadata": {},
   "outputs": [],
   "source": [
    "purchase_columns = ['NumWebPurchases', 'NumCatalogPurchases', 'NumStorePurchases']\n",
    "\n",
    "not_accepted_df = food_df[food_df['accepted_campaigns'] == 0]\n",
    "accepted_df = food_df[food_df['accepted_campaigns'] >= 1]\n",
    "\n",
    "# method totals for non-campaign customers\n",
    "all_purchases_df = pd.DataFrame(not_accepted_df[purchase_columns].sum())\n",
    "\n",
    "all_purchases_df.reset_index(inplace=True)\n",
    "all_purchases_df.columns = ['purchase_method', 'count']\n",
    "all_purchases_df.sort_values(by = 'count', ascending = False, inplace = True)\n",
    "\n",
    "all_purchases_df['purchase_method'] = all_purchases_df['purchase_method'].str.replace('Num', '')\n",
    "\n",
    "# method total for customers accepting campaigns\n",
    "purchases_df = pd.DataFrame(accepted_df[purchase_columns].sum())\n",
    "\n",
    "purchases_df.reset_index(inplace=True)\n",
    "purchases_df.columns = ['purchase_method', 'count']\n",
    "purchases_df.sort_values(by = 'count', ascending = False, inplace = True)\n",
    "\n",
    "purchases_df['purchase_method'] = purchases_df['purchase_method'].str.replace('Num', '')"
   ]
  },
  {
   "cell_type": "code",
   "execution_count": null,
   "id": "1d5486ec-75d5-40a8-8b12-012f129c9b11",
   "metadata": {},
   "outputs": [],
   "source": [
    "fig, axes = plt.subplots(nrows = 1, ncols = 2, figsize = (10, 5))\n",
    "\n",
    "sns.barplot(data = purchases_df, x='purchase_method', y = 'count', ax=axes[0], hue=\"count\", legend=False)\n",
    "\n",
    "sns.barplot(data = all_purchases_df, x='purchase_method', y = 'count', ax=axes[1], hue=\"count\", legend=False)\n",
    "\n",
    "\n",
    "axes[0].set_title('Accepting Campaigns', fontfamily = 'Merriweather', fontsize = 14)\n",
    "axes[0].set_xlabel('Purchase Method')\n",
    "axes[0].set_ylabel('Number of Purchases')\n",
    "\n",
    "axes[1].set_title('Not Accepting Campaigns', fontfamily = 'Merriweather', fontsize = 14)\n",
    "axes[1].set_xlabel('Purchase Method')\n",
    "axes[1].set_ylabel('Number of Purchases')\n",
    "\n",
    "plt.tight_layout()\n",
    "plt.show()"
   ]
  },
  {
   "cell_type": "markdown",
   "id": "a7e51313-8c58-42bf-ba4e-23612bc15d2b",
   "metadata": {},
   "source": [
    "Customers accepting marketing campaigns made 8% more catalog purchases, while store and website purchases remain consistent."
   ]
  },
  {
   "cell_type": "code",
   "execution_count": null,
   "id": "b4e514cd-21bf-48b6-9a3f-48f9f31d46fb",
   "metadata": {},
   "outputs": [],
   "source": [
    "# calculate percentage increase in catalog purchases based on campaign acceptance\n",
    "\n",
    "camp_catalog_count = purchases_df[purchases_df['purchase_method'] == 'CatalogPurchases']['count'].iloc[0]\n",
    "all_catalog_count = all_purchases_df[all_purchases_df['purchase_method'] == 'CatalogPurchases']['count'].iloc[0]\n",
    "\n",
    "# 27% for those who accepted campaigns\n",
    "camp_catalog_percentage = (camp_catalog_count / purchases_df['count'].sum()).round(2) * 100\n",
    "\n",
    "# 19% for those who did not accept campaigns\n",
    "no_camp_catalog_percentage = (all_catalog_count / all_purchases_df['count'].sum()).round(2) * 100"
   ]
  },
  {
   "cell_type": "markdown",
   "id": "7d917bc1-d02e-4fe4-9f37-c6c2f954e059",
   "metadata": {},
   "source": [
    "#### Web Traffic Conversion"
   ]
  },
  {
   "cell_type": "code",
   "execution_count": null,
   "id": "eea07792-6746-448c-ae79-64e02be979f9",
   "metadata": {},
   "outputs": [],
   "source": [
    "web_conversion_df = food_df[['NumWebVisitsMonth', 'NumWebPurchases', 'age_group']].groupby('age_group').sum().round(2)\n",
    "\n",
    "web_conversion_df.reset_index(inplace = True)\n",
    "\n",
    "web_conversion_df['web_traffic_conversion'] = (web_conversion_df['NumWebPurchases'] / web_conversion_df['NumWebVisitsMonth']).round(2) * 100\n",
    "\n",
    "web_conversion_df\n",
    "\n",
    "sns.barplot(data = web_conversion_df, x = 'age_group', y = 'web_traffic_conversion', hue='NumWebVisitsMonth')\n",
    "\n",
    "plt.title('Web Traffic Conversion Per Age Group', fontfamily = 'Merriweather', fontsize = 14)\n",
    "plt.xlabel('Age Group')\n",
    "plt.ylabel('Web Traffic Conversion')\n",
    "\n",
    "plt.legend(title='Number of\\nWeb Visits', bbox_to_anchor=(1.02, 1.02), loc='upper left')\n",
    "plt.tight_layout()\n",
    "plt.show()"
   ]
  },
  {
   "cell_type": "code",
   "execution_count": null,
   "id": "c1ad7912-cc9b-484d-952a-56f4e7b504a2",
   "metadata": {},
   "outputs": [],
   "source": [
    "fig, axes = plt.subplots(nrows = 1, ncols = 2, figsize=(10,5))\n",
    "\n",
    "\n",
    "sns.regplot(data = food_df, x = 'total_children', y = 'MntTotal', ax = axes[0], color = '#845A87')\n",
    "sns.regplot(data = food_df, x = 'total_children', y = 'accepted_campaigns', ax = axes[1], color = '#845A87')\n",
    "\n",
    "axes[0].set_title('Amount Spent Per Number of Children', fontfamily = 'Merriweather', fontsize = 14)\n",
    "axes[0].set_xlabel('Total Children')\n",
    "axes[0].set_ylabel('Total Amount Spent')\n",
    "\n",
    "axes[1].set_title('Accepted Campaigns Per Number of Children', fontfamily = 'Merriweather', fontsize = 14)\n",
    "axes[1].set_xlabel('Total Children')\n",
    "axes[1].set_ylabel('Accepted Campaigns')\n",
    "\n",
    "\n",
    "plt.tight_layout()\n",
    "plt.show()"
   ]
  },
  {
   "cell_type": "markdown",
   "id": "1b0c2b0d-7254-4c1a-ab3f-06dd8c1a0871",
   "metadata": {},
   "source": [
    "The fewer children a customer has, the more likely they are to spend more and accept campaigns."
   ]
  },
  {
   "cell_type": "code",
   "execution_count": null,
   "id": "e0620ba9-fe30-4a7c-9fae-81b15410dfb8",
   "metadata": {},
   "outputs": [],
   "source": [
    "fig, axes = plt.subplots(nrows = 1, ncols = 2, figsize=(10,5))\n",
    "\n",
    "education_df = pd.DataFrame(food_df.groupby('education_level')[['MntTotal', 'accepted_campaigns']].mean().round(2))\n",
    "\n",
    "education_df.reset_index(inplace = True)\n",
    "education_df.columns = ['education_level', 'sum_spent', 'accepted_campaigns']\n",
    "\n",
    "sns.barplot(data = education_df, x = 'education_level', y = 'sum_spent', ax= axes[0])\n",
    "\n",
    "axes[0].set_title('Average Spent Based on Education', fontfamily = 'Merriweather', fontsize = 14)\n",
    "axes[0].set_xlabel('Education Level')\n",
    "axes[0].set_ylabel('Average Spent')\n",
    "\n",
    "sns.barplot(data = education_df, x = 'education_level', y = 'accepted_campaigns', ax= axes[1])\n",
    "axes[1].set_title('Accepting Campaigns Based on Education', fontfamily = 'Merriweather', fontsize = 14)\n",
    "axes[1].set_xlabel('Education Level')\n",
    "axes[1].set_ylabel('Percent Accepting Campaigns')\n",
    "\n",
    "plt.tight_layout()\n",
    "plt.show()"
   ]
  },
  {
   "cell_type": "markdown",
   "id": "2b82b6c5-aac6-4560-85ce-fc7cd4d8da6f",
   "metadata": {},
   "source": [
    "Those with a basic education level have a low average order value and accept significaly fewer campaigns. Whereas all other education levels have a comparable order value and campaign acceptance."
   ]
  },
  {
   "cell_type": "code",
   "execution_count": null,
   "id": "ffa68aed-328d-4c71-acf7-aab9f798cf3f",
   "metadata": {},
   "outputs": [],
   "source": [
    "marital_df = food_df[['marital_status', 'MntTotal', 'accepted_campaigns']].groupby('marital_status').sum()\n",
    "\n",
    "marital_df.reset_index(inplace = True)\n",
    "\n",
    "sns.barplot(data = marital_df, x = 'marital_status', y = 'accepted_campaigns', color = '#946083')\n",
    "\n",
    "plt.title('Accepts Campaign Based on Marital Status', fontfamily = 'Merriweather', fontsize = 14)\n",
    "plt.xlabel('Marital Status')\n",
    "plt.ylabel('Accept Campaigns')\n",
    "plt.tight_layout()\n",
    "plt.savefig('/Users/ryanbrockhoff/Desktop/marital-status-demographics.png', dpi=300)\n",
    "plt.show()"
   ]
  },
  {
   "cell_type": "markdown",
   "id": "9aab5cef-7547-4809-ab3a-559eb8b83252",
   "metadata": {},
   "source": [
    "Married customers accept significantly more campaigns than other demographics, with similar results found in total spent."
   ]
  },
  {
   "cell_type": "markdown",
   "id": "d8bb9be4-147d-4dcd-b625-f9df9bbd5080",
   "metadata": {},
   "source": [
    "#### Top Performing Segmentations"
   ]
  },
  {
   "cell_type": "code",
   "execution_count": null,
   "id": "0bf5fb5c-6dff-47df-b1a9-15de3ed149db",
   "metadata": {},
   "outputs": [],
   "source": [
    "initial_segments = food_df[['MntTotal', 'accepted_campaigns', \n",
    "                'marital_status', 'total_children', 'education_level', \n",
    "                'age_group']].groupby(['marital_status', 'total_children', 'education_level', 'age_group']).sum()\n",
    "\n",
    "pd.set_option('display.max_rows', None)  \n",
    "pd.set_option('display.max_columns', None)\n",
    "\n",
    "initial_segments.sort_values(by = ['MntTotal', 'accepted_campaigns'], ascending = False, inplace = True)\n",
    "\n",
    "top_five_segment = initial_segments.iloc[:5]"
   ]
  },
  {
   "cell_type": "code",
   "execution_count": null,
   "id": "abb88ab7-b626-4abf-9ab3-cb80d7b85232",
   "metadata": {},
   "outputs": [],
   "source": [
    "# merge multi-level index values together and reset as new index for top 5 performing segments\n",
    "combined_index = []\n",
    "\n",
    "for item in top_five_segment.index:\n",
    "    string_text = ''\n",
    "    for inner_text in item:\n",
    "        string_text += ('\\n' + str(inner_text))\n",
    "    combined_index.append(string_text.strip())\n",
    "\n",
    "# Reset the index of top_five_segment to allow reindexing\n",
    "top_five_segment.reset_index(drop=True, inplace=True)\n",
    "\n",
    "# Assign the combined index as the new index\n",
    "top_five_combined = top_five_segment.copy()\n",
    "top_five_combined['combined_index'] = combined_index\n",
    "\n",
    "# Set the 'combined_index' as the new index\n",
    "top_five_combined.set_index('combined_index', inplace=True)"
   ]
  },
  {
   "cell_type": "code",
   "execution_count": null,
   "id": "18cab309-c6bd-4c32-bd19-b5e9d5b9ab58",
   "metadata": {},
   "outputs": [],
   "source": [
    "top_five_combined.sort_values(by = 'MntTotal', ascending = False, inplace = True)\n",
    "\n",
    "# plot chart\n",
    "sns.barplot(data = top_five_combined, x = 'combined_index', y = 'MntTotal', color = '#946083')\n",
    "\n",
    "plt.title('Top 5 Segments by Spending and Campaigns', fontfamily = 'Merriweather', fontsize = 14)\n",
    "plt.xticks(fontsize = 8)\n",
    "plt.xlabel('Segments')\n",
    "plt.ylabel('Total Spent')\n",
    "\n",
    "plt.tight_layout()\n",
    "plt.savefig('/Users/ryanbrockhoff/Desktop/marital-status-demographics.png', dpi=300)\n",
    "plt.show()"
   ]
  },
  {
   "cell_type": "markdown",
   "id": "c634898f-d168-42d5-9d3e-ba0810845ee9",
   "metadata": {},
   "source": [
    "Customers that are married, who have graduated, and have 0-1 children make up the majority of our top spending customers. The married, 1 child, graduated, 41-50 age segment spends significantly more and accept more campaigns than others segmentations. "
   ]
  },
  {
   "cell_type": "code",
   "execution_count": null,
   "id": "55283582-479e-4c7a-af64-dcb366c1be2a",
   "metadata": {},
   "outputs": [],
   "source": []
  }
 ],
 "metadata": {
  "kernelspec": {
   "display_name": "base",
   "language": "python",
   "name": "python3"
  },
  "language_info": {
   "codemirror_mode": {
    "name": "ipython",
    "version": 3
   },
   "file_extension": ".py",
   "mimetype": "text/x-python",
   "name": "python",
   "nbconvert_exporter": "python",
   "pygments_lexer": "ipython3",
   "version": "3.12.7"
  }
 },
 "nbformat": 4,
 "nbformat_minor": 5
}
